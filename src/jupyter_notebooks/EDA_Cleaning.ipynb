{
 "cells": [
  {
   "cell_type": "code",
   "execution_count": 1,
   "id": "43d2c2a8-c5b2-42ff-8173-c699813fcd72",
   "metadata": {
    "tags": []
   },
   "outputs": [],
   "source": [
    "import pandas as pd\n",
    "import numpy as np\n",
    "from datetime import datetime"
   ]
  },
  {
   "cell_type": "code",
   "execution_count": 2,
   "id": "5e0dd929-3217-4b95-b696-97c493e5fda4",
   "metadata": {
    "tags": []
   },
   "outputs": [],
   "source": [
    "games = pd.read_csv(r\"../Datasets/games.csv\")\n",
    "stats = pd.read_csv(r\"../datasets/International_Chess_Stats.csv\",index_col=[0]) #this dataset came with two index columns\n",
    "players = pd.read_csv(r\"../datasets/Complete_Players_Database.csv\",low_memory=False) "
   ]
  },
  {
   "cell_type": "code",
   "execution_count": 3,
   "id": "62557b7f-9ba8-46a2-9ed6-ec82f2144130",
   "metadata": {
    "tags": []
   },
   "outputs": [
    {
     "name": "stdout",
     "output_type": "stream",
     "text": [
      "<class 'pandas.core.frame.DataFrame'>\n",
      "RangeIndex: 20058 entries, 0 to 20057\n",
      "Data columns (total 16 columns):\n",
      " #   Column          Non-Null Count  Dtype  \n",
      "---  ------          --------------  -----  \n",
      " 0   id              20058 non-null  object \n",
      " 1   rated           20058 non-null  bool   \n",
      " 2   created_at      20058 non-null  float64\n",
      " 3   last_move_at    20058 non-null  float64\n",
      " 4   turns           20058 non-null  int64  \n",
      " 5   victory_status  20058 non-null  object \n",
      " 6   winner          20058 non-null  object \n",
      " 7   increment_code  20058 non-null  object \n",
      " 8   white_id        20058 non-null  object \n",
      " 9   white_rating    20058 non-null  int64  \n",
      " 10  black_id        20058 non-null  object \n",
      " 11  black_rating    20058 non-null  int64  \n",
      " 12  moves           20058 non-null  object \n",
      " 13  opening_eco     20058 non-null  object \n",
      " 14  opening_name    20058 non-null  object \n",
      " 15  opening_ply     20058 non-null  int64  \n",
      "dtypes: bool(1), float64(2), int64(4), object(9)\n",
      "memory usage: 2.3+ MB\n"
     ]
    }
   ],
   "source": [
    "games.info()"
   ]
  },
  {
   "cell_type": "code",
   "execution_count": 4,
   "id": "2a15d9f9-a98d-41db-9cd9-993fae53c81c",
   "metadata": {
    "tags": []
   },
   "outputs": [],
   "source": [
    "#splitting out the first ten moves, to see if there's a pattern there, or useful categories\n",
    "games['opening'] = games['moves'].apply(lambda x : x.split(' ',20))\n",
    "games['opening'].apply(lambda x : x.pop())\n",
    "games['opening'] = games['opening'].apply(lambda x : ' '.join(x))"
   ]
  },
  {
   "cell_type": "code",
   "execution_count": 5,
   "id": "d606b7e2-4050-4e61-be7c-3faaf9abc871",
   "metadata": {
    "tags": []
   },
   "outputs": [],
   "source": [
    "#splitting out the first ten moves, to be used to see if there's a pattern there, \n",
    "#or useful categories beyond ECO code proved in data set\n",
    "def opening_10(game):\n",
    "    opening = game['moves'].split(' ',10)\n",
    "    opening.pop()\n",
    "    opening = ' '.join(opening)\n",
    "    return opening"
   ]
  },
  {
   "cell_type": "code",
   "execution_count": 6,
   "id": "e83a167f-54fc-434b-b981-320edb600b98",
   "metadata": {},
   "outputs": [],
   "source": [
    "games['opening_10'] = games.apply(lambda x : opening_10(x), axis=1) #create list of first 10 moves in each game"
   ]
  },
  {
   "cell_type": "code",
   "execution_count": 7,
   "id": "453e96e9-c225-4822-a29c-f6fe18e3077d",
   "metadata": {
    "tags": []
   },
   "outputs": [
    {
     "name": "stdout",
     "output_type": "stream",
     "text": [
      "365\n",
      "1477\n"
     ]
    }
   ],
   "source": [
    "print(games['opening_eco'].nunique())\n",
    "print(games['opening_name'].nunique())"
   ]
  },
  {
   "cell_type": "code",
   "execution_count": 8,
   "id": "97457da9-9563-41ea-b45e-2e19816fb9d5",
   "metadata": {
    "tags": []
   },
   "outputs": [
    {
     "data": {
      "text/plain": [
       "array(['Slav Defense: Exchange Variation',\n",
       "       'Nimzowitsch Defense: Kennedy Variation',\n",
       "       \"King's Pawn Game: Leonardis Variation\", ...,\n",
       "       \"Queen's Indian Defense: Classical Variation |  Traditional Variation\",\n",
       "       \"Queen's Gambit Declined: Slav |  Dutch Variation\",\n",
       "       'Sicilian Defense: Najdorf Variation |  Polugaevsky Variation'],\n",
       "      dtype=object)"
      ]
     },
     "execution_count": 8,
     "metadata": {},
     "output_type": "execute_result"
    }
   ],
   "source": [
    "games['opening_name'].unique()"
   ]
  },
  {
   "cell_type": "code",
   "execution_count": 9,
   "id": "440aa592-0740-47cb-a9be-c4203fb235c2",
   "metadata": {},
   "outputs": [],
   "source": [
    "#get simplified opening name"
   ]
  },
  {
   "cell_type": "code",
   "execution_count": 10,
   "id": "e8ceb353-0637-4cdb-909e-8595392cdab7",
   "metadata": {
    "tags": []
   },
   "outputs": [],
   "source": [
    "def simple_opening(game):\n",
    "    \"\"\"This returns a simplified version of the opening name, roughly equivilant to the ECO code\"\"\"\n",
    "    if ':' in game['opening_name']:\n",
    "        opening = game['opening_name'].split(':')\n",
    "        opening.pop()\n",
    "        return opening[0]\n",
    "    else:\n",
    "        return game['opening_name']"
   ]
  },
  {
   "cell_type": "code",
   "execution_count": 11,
   "id": "ace22bd3-2108-4f53-aab0-737876b77c39",
   "metadata": {
    "tags": []
   },
   "outputs": [],
   "source": [
    "def simple_opening2(game):\n",
    "    \"\"\"This returns an even simpler opening, hopefully useful for running logical regressions and GLMs\"\"\"\n",
    "    if ':' in game['opening_name']:\n",
    "        opening = game['opening_name'].split(':') #several characters are used as break characters and must be accounted for\n",
    "        opening.pop()\n",
    "        return opening[0]\n",
    "    elif '|' in game['opening_name']:\n",
    "        opening = game['opening_name'].split('|')\n",
    "        opening.pop()\n",
    "        return opening[0]\n",
    "    elif '#' in game['opening_name']:\n",
    "        opening = game['opening_name'].split('#')\n",
    "        opening.pop()\n",
    "        return opening[0]\n",
    "    else:\n",
    "        return game['opening_name']"
   ]
  },
  {
   "cell_type": "code",
   "execution_count": 12,
   "id": "37525e9f-c8d5-4f98-9fb9-a7c3bc9707ab",
   "metadata": {
    "tags": []
   },
   "outputs": [],
   "source": [
    "games['opening_simple'] = games.apply(lambda x : simple_opening(x), axis=1) #friendly lambda functions."
   ]
  },
  {
   "cell_type": "code",
   "execution_count": 13,
   "id": "3ce122d0-2f03-4c92-877b-f94d5738e041",
   "metadata": {
    "tags": []
   },
   "outputs": [],
   "source": [
    "games['simpler_opening'] = games.apply(lambda x : simple_opening2(x), axis=1)"
   ]
  },
  {
   "cell_type": "code",
   "execution_count": 14,
   "id": "0ee162e8-fbd6-4ce2-85ba-39d32d842ee9",
   "metadata": {
    "tags": []
   },
   "outputs": [],
   "source": [
    "games['opening_simple'] = games['opening_simple'].apply(lambda x : x.strip())\n",
    "games['simpler_opening'] = games['simpler_opening'].apply(lambda x : x.strip())"
   ]
  },
  {
   "cell_type": "code",
   "execution_count": 15,
   "id": "ec9d2178-eb39-48ad-bda1-62b1b97208d1",
   "metadata": {
    "tags": []
   },
   "outputs": [
    {
     "data": {
      "text/plain": [
       "0           Slav Defense\n",
       "1    Nimzowitsch Defense\n",
       "2       King's Pawn Game\n",
       "3      Queen's Pawn Game\n",
       "4       Philidor Defense\n",
       "Name: opening_simple, dtype: object"
      ]
     },
     "execution_count": 15,
     "metadata": {},
     "output_type": "execute_result"
    }
   ],
   "source": [
    "games['opening_simple'].head()"
   ]
  },
  {
   "cell_type": "code",
   "execution_count": 16,
   "id": "7423364d-577a-4f0b-badc-41ee520401ef",
   "metadata": {
    "tags": []
   },
   "outputs": [
    {
     "data": {
      "text/plain": [
       "227"
      ]
     },
     "execution_count": 16,
     "metadata": {},
     "output_type": "execute_result"
    }
   ],
   "source": [
    "games['opening_simple'].nunique()"
   ]
  },
  {
   "cell_type": "code",
   "execution_count": 17,
   "id": "331a98af-e0c2-4fe5-a0ba-e40fea41ce46",
   "metadata": {
    "tags": []
   },
   "outputs": [
    {
     "data": {
      "text/plain": [
       "143"
      ]
     },
     "execution_count": 17,
     "metadata": {},
     "output_type": "execute_result"
    }
   ],
   "source": [
    "games['simpler_opening'].nunique()  #much fewer, should prove more useful at differenciating categories as a result"
   ]
  },
  {
   "cell_type": "code",
   "execution_count": 18,
   "id": "7667488b-8b05-452c-ac05-3b8f360029f4",
   "metadata": {},
   "outputs": [],
   "source": [
    "# Opening_dict = dict(zip(games['opening_eco'],)) #investigate further ways to use ECO code as a consistent marker"
   ]
  },
  {
   "cell_type": "code",
   "execution_count": 19,
   "id": "bfb44a16-5451-4ff7-8e6f-bcc6113a18fa",
   "metadata": {
    "tags": []
   },
   "outputs": [],
   "source": [
    "#a 'ply' is a half-move. In games where turns consists of one player making a move and then the other, \n",
    "#each players move is referred to as a 'ply' \n",
    "def opening_ply(game):\n",
    "    opening = game['moves'].split(' ',game['opening_ply'])\n",
    "    opening.pop()\n",
    "    opening = ' '.join(opening)\n",
    "    return opening"
   ]
  },
  {
   "cell_type": "code",
   "execution_count": 20,
   "id": "2740769e-6681-4f0f-9ec6-769c4e7ebb1b",
   "metadata": {
    "tags": []
   },
   "outputs": [],
   "source": [
    "games['opening_moves'] = games.apply(lambda x : opening_ply(x), axis=1) \n",
    "#create list of moves used to determine the opening, unsure of its use as separate from ECO just yet"
   ]
  },
  {
   "cell_type": "code",
   "execution_count": 21,
   "id": "ba8b7bd2-da30-4430-8b0d-700a95f2a4af",
   "metadata": {
    "tags": []
   },
   "outputs": [
    {
     "data": {
      "text/plain": [
       "array(['15+2', '5+10', '20+0', '30+3', '10+0', '15+30', '15+0', '20+60',\n",
       "       '5+40', '8+0', '15+15', '15+16', '11+0', '30+60', '15+5', '10+10',\n",
       "       '15+3', '18+0', '30+30', '20+25', '5+5', '30+0', '40+40', '16+0',\n",
       "       '6+10', '8+10', '8+12', '7+12', '15+10', '20+5', '20+10', '45+0',\n",
       "       '5+8', '30+2', '25+0', '10+2', '7+2', '25+25', '7+8', '6+6',\n",
       "       '10+4', '12+0', '15+1', '2+10', '9+0', '10+9', '6+7', '30+10',\n",
       "       '30+15', '10+3', '45+30', '9+2', '7+3', '6+5', '25+5', '5+7',\n",
       "       '8+2', '20+8', '30+5', '25+15', '15+7', '8+8', '5+9', '16+7',\n",
       "       '10+7', '7+5', '40+20', '10+5', '11+5', '10+15', '180+0', '17+5',\n",
       "       '8+5', '3+8', '60+120', '90+120', '15+8', '9+1', '9+3', '2+15',\n",
       "       '10+1', '5+12', '60+10', '5+60', '8+15', '30+25', '12+1', '14+0',\n",
       "       '60+20', '10+8', '20+3', '14+12', '7+7', '60+0', '45+45', '4+15',\n",
       "       '5+6', '180+180', '8+3', '4+6', '10+25', '3+10', '7+4', '6+3',\n",
       "       '5+15', '45+15', '15+20', '6+8', '6+9', '14+8', '6+4', '15+4',\n",
       "       '9+20', '20+15', '20+2', '9+10', '8+7', '13+1', '150+180', '3+12',\n",
       "       '7+10', '10+60', '5+30', '20+30', '14+10', '25+10', '8+1', '19+0',\n",
       "       '9+12', '20+1', '0+25', '0+15', '15+6', '8+6', '10+6', '25+8',\n",
       "       '15+14', '20+20', '13+10', '3+9', '17+11', '12+5', '12+2', '7+25',\n",
       "       '20+7', '12+6', '25+30', '15+45', '25+3', '17+1', '30+1', '17+8',\n",
       "       '17+3', '45+10', '8+25', '19+19', '12+8', '9+9', '15+60', '5+20',\n",
       "       '30+6', '12+12', '30+12', '25+2', '40+10', '16+2', '90+0', '30+11',\n",
       "       '4+10', '12+13', '11+8', '60+4', '10+30', '60+3', '20+6', '1+30',\n",
       "       '90+30', '4+8', '40+0', '17+2', '180+8', '12+10', '16+1', '1+10',\n",
       "       '7+14', '3+15', '60+60', '13+3', '45+4', '45+5', '10+180', '120+0',\n",
       "       '30+7', '14+4', '13+2', '6+20', '180+60', '60+30', '40+30',\n",
       "       '30+35', '10+11', '1+12', '11+11', '18+5', '8+9', '15+11', '9+5',\n",
       "       '19+17', '14+14', '17+15', '7+6', '40+2', '10+20', '12+9', '14+17',\n",
       "       '14+20', '10+13', '30+8', '30+9', '30+4', '30+20', '5+180', '7+9',\n",
       "       '5+13', '30+45', '25+4', '25+1', '12+4', '11+4', '13+0', '60+5',\n",
       "       '9+11', '1+15', '12+3', '2+16', '13+5', '20+4', '40+1', '17+16',\n",
       "       '11+10', '1+19', '40+60', '7+35', '16+10', '9+17', '15+12',\n",
       "       '10+12', '35+10', '18+20', '6+15', '19+20', '11+1', '30+150',\n",
       "       '35+3', '17+0', '40+15', '14+6', '20+40', '13+14', '8+4', '180+25',\n",
       "       '2+20', '12+11', '13+13', '16+8', '60+7', '45+1', '20+11', '150+8',\n",
       "       '20+180', '90+5', '9+6', '45+8', '17+90', '18+19', '0+12', '9+4',\n",
       "       '35+0', '7+15', '1+25', '11+3', '17+13', '9+8', '13+12', '16+4',\n",
       "       '19+8', '11+7', '0+180', '14+5', '19+2', '10+35', '4+7', '6+12',\n",
       "       '19+30', '12+20', '29+30', '15+9', '120+1', '180+5', '12+7',\n",
       "       '8+180', '35+15', '17+17', '150+60', '18+18', '18+10', '150+3',\n",
       "       '1+13', '0+16', '5+17', '5+25', '25+17', '18+8', '180+45', '1+45',\n",
       "       '10+45', '20+9', '25+9', '13+20', '1+20', '0+40', '0+20', '14+9',\n",
       "       '40+9', '25+20', '180+150', '180+120', '20+12', '30+16', '20+120',\n",
       "       '2+40', '19+5', '18+15', '19+45', '11+2', '5+21', '19+4', '4+180',\n",
       "       '5+11', '60+13', '40+8', '4+18', '4+12', '21+0', '90+8', '13+7',\n",
       "       '9+7', '14+2', '20+13', '19+3', '60+15', '3+35', '7+11', '2+12',\n",
       "       '8+30', '120+10', '150+0', '5+14', '16+20', '15+25', '120+180',\n",
       "       '60+40', '180+3', '10+40', '30+40', '3+30', '2+9', '7+18', '35+2',\n",
       "       '8+11', '12+15', '1+18', '20+90', '4+20', '35+1', '7+30', '25+12',\n",
       "       '45+2', '13+15', '14+1', '25+6', '16+3', '0+13', '60+1', '11+9',\n",
       "       '19+18', '120+5', '9+15', '0+30', '6+30', '35+35', '3+20', '4+9',\n",
       "       '10+14', '35+8', '13+40', '16+15', '60+180', '8+45', '14+15'],\n",
       "      dtype=object)"
      ]
     },
     "execution_count": 21,
     "metadata": {},
     "output_type": "execute_result"
    }
   ],
   "source": [
    "games['increment_code'].unique() #the initial time given to each player (in minutes) plus the time in seconds added after each move"
   ]
  },
  {
   "cell_type": "code",
   "execution_count": 22,
   "id": "87fa1170-02e3-451b-bc7e-3c876c56563f",
   "metadata": {
    "tags": []
   },
   "outputs": [
    {
     "data": {
      "text/plain": [
       "45"
      ]
     },
     "execution_count": 22,
     "metadata": {},
     "output_type": "execute_result"
    }
   ],
   "source": [
    "len(games.loc[games['increment_code'].str.startswith('0')]) #check num. of games with unusual time control"
   ]
  },
  {
   "cell_type": "code",
   "execution_count": 23,
   "id": "0985061d-a4b9-4b85-9d2f-17b8584d43a9",
   "metadata": {
    "tags": []
   },
   "outputs": [],
   "source": [
    "games['t'] = games['increment_code'].apply(lambda x : x.split('+')[0]).astype(int) #cast time w/o increment as int"
   ]
  },
  {
   "cell_type": "code",
   "execution_count": 24,
   "id": "fa7a959b-d187-4f89-91ee-d867aaf9544b",
   "metadata": {
    "tags": []
   },
   "outputs": [
    {
     "data": {
      "text/plain": [
       "15"
      ]
     },
     "execution_count": 24,
     "metadata": {},
     "output_type": "execute_result"
    }
   ],
   "source": [
    "games['t'][0]"
   ]
  },
  {
   "cell_type": "code",
   "execution_count": 25,
   "id": "072e1c0c-a84e-4b24-acac-ed141ef31856",
   "metadata": {
    "tags": []
   },
   "outputs": [],
   "source": [
    "def time_control_label(d):\n",
    "    \"\"\"assigns timecode names based on each player's starting time. \n",
    "    These categories are based on Lichess.org standards.\"\"\"\n",
    "    if d['t'] < 1:\n",
    "        return 'Atomic'\n",
    "    elif d['t'] < 3:\n",
    "        return 'Bullet'\n",
    "    elif d['t'] < 10:\n",
    "        return 'Blitz'\n",
    "    elif d['t'] >= 15:\n",
    "        return 'Rapid'\n",
    "    else:\n",
    "         return 'Classical'"
   ]
  },
  {
   "cell_type": "code",
   "execution_count": 26,
   "id": "353c26ff-2e25-4543-a136-8883b0100098",
   "metadata": {
    "tags": []
   },
   "outputs": [],
   "source": [
    "games['time_ctrl'] = games.apply(lambda x : time_control_label(x), axis=1) #create time controls field"
   ]
  },
  {
   "cell_type": "code",
   "execution_count": 27,
   "id": "a9981e50-2884-477b-bc6e-0c5c2fea5691",
   "metadata": {},
   "outputs": [
    {
     "data": {
      "text/plain": [
       "'Rapid'"
      ]
     },
     "execution_count": 27,
     "metadata": {},
     "output_type": "execute_result"
    }
   ],
   "source": [
    "games['time_ctrl'][0]"
   ]
  },
  {
   "cell_type": "code",
   "execution_count": 28,
   "id": "2c950387-ec50-4c3f-bfda-922e96fce157",
   "metadata": {},
   "outputs": [],
   "source": [
    "del games['t'] #no longer needed, can be pulled easily if it is"
   ]
  },
  {
   "cell_type": "code",
   "execution_count": 29,
   "id": "a598fcb6-c63b-4938-b97c-112d6b5e587f",
   "metadata": {},
   "outputs": [
    {
     "data": {
      "text/html": [
       "<div>\n",
       "<style scoped>\n",
       "    .dataframe tbody tr th:only-of-type {\n",
       "        vertical-align: middle;\n",
       "    }\n",
       "\n",
       "    .dataframe tbody tr th {\n",
       "        vertical-align: top;\n",
       "    }\n",
       "\n",
       "    .dataframe thead th {\n",
       "        text-align: right;\n",
       "    }\n",
       "</style>\n",
       "<table border=\"1\" class=\"dataframe\">\n",
       "  <thead>\n",
       "    <tr style=\"text-align: right;\">\n",
       "      <th></th>\n",
       "      <th>id</th>\n",
       "      <th>rated</th>\n",
       "      <th>created_at</th>\n",
       "      <th>last_move_at</th>\n",
       "      <th>turns</th>\n",
       "      <th>victory_status</th>\n",
       "      <th>winner</th>\n",
       "      <th>increment_code</th>\n",
       "      <th>white_id</th>\n",
       "      <th>white_rating</th>\n",
       "      <th>...</th>\n",
       "      <th>opening_eco</th>\n",
       "      <th>opening_name</th>\n",
       "      <th>opening_ply</th>\n",
       "      <th>opening</th>\n",
       "      <th>opening_10</th>\n",
       "      <th>opening_simple</th>\n",
       "      <th>simpler_opening</th>\n",
       "      <th>opening_moves</th>\n",
       "      <th>time_ctrl</th>\n",
       "      <th>duration</th>\n",
       "    </tr>\n",
       "  </thead>\n",
       "  <tbody>\n",
       "    <tr>\n",
       "      <th>0</th>\n",
       "      <td>TZJHLljE</td>\n",
       "      <td>False</td>\n",
       "      <td>2017-08-31 20:06:40</td>\n",
       "      <td>2017-08-31 20:06:40</td>\n",
       "      <td>13</td>\n",
       "      <td>outoftime</td>\n",
       "      <td>white</td>\n",
       "      <td>15+2</td>\n",
       "      <td>bourgris</td>\n",
       "      <td>1500</td>\n",
       "      <td>...</td>\n",
       "      <td>D10</td>\n",
       "      <td>Slav Defense: Exchange Variation</td>\n",
       "      <td>5</td>\n",
       "      <td>d4 d5 c4 c6 cxd5 e6 dxe6 fxe6 Nf3 Bb4+ Nc3 Ba5</td>\n",
       "      <td>d4 d5 c4 c6 cxd5 e6 dxe6 fxe6 Nf3 Bb4+</td>\n",
       "      <td>Slav Defense</td>\n",
       "      <td>Slav Defense</td>\n",
       "      <td>d4 d5 c4 c6 cxd5</td>\n",
       "      <td>Rapid</td>\n",
       "      <td>0 days</td>\n",
       "    </tr>\n",
       "  </tbody>\n",
       "</table>\n",
       "<p>1 rows × 23 columns</p>\n",
       "</div>"
      ],
      "text/plain": [
       "         id  rated          created_at        last_move_at  turns  \\\n",
       "0  TZJHLljE  False 2017-08-31 20:06:40 2017-08-31 20:06:40     13   \n",
       "\n",
       "  victory_status winner increment_code  white_id  white_rating  ...  \\\n",
       "0      outoftime  white           15+2  bourgris          1500  ...   \n",
       "\n",
       "  opening_eco                      opening_name opening_ply  \\\n",
       "0         D10  Slav Defense: Exchange Variation           5   \n",
       "\n",
       "                                          opening  \\\n",
       "0  d4 d5 c4 c6 cxd5 e6 dxe6 fxe6 Nf3 Bb4+ Nc3 Ba5   \n",
       "\n",
       "                               opening_10  opening_simple simpler_opening  \\\n",
       "0  d4 d5 c4 c6 cxd5 e6 dxe6 fxe6 Nf3 Bb4+    Slav Defense    Slav Defense   \n",
       "\n",
       "      opening_moves time_ctrl duration  \n",
       "0  d4 d5 c4 c6 cxd5     Rapid   0 days  \n",
       "\n",
       "[1 rows x 23 columns]"
      ]
     },
     "execution_count": 29,
     "metadata": {},
     "output_type": "execute_result"
    }
   ],
   "source": [
    "# Convert 'created_at' to datetime and save it into a new column: \n",
    "games['created_at'] = pd.to_datetime(games['created_at']/1000, unit='s', origin='unix')\n",
    "\n",
    "# Convert 'last_move_at_modified' to datetime and save it into a new column:\n",
    "games['last_move_at'] = pd.to_datetime(games['last_move_at']/1000, unit='s', origin='unix')\n",
    "\n",
    "# Create a new column calculating the time difference between the 2 previous columns:\n",
    "games['duration'] = pd.to_datetime(games['last_move_at']) - pd.to_datetime(games['created_at'])\n",
    "\n",
    "games.head(1)"
   ]
  },
  {
   "cell_type": "code",
   "execution_count": 30,
   "id": "083e862e-513f-4a89-9288-ba9b0127ba13",
   "metadata": {
    "tags": []
   },
   "outputs": [],
   "source": [
    "del games['last_move_at'] #duplicate of 'created_at' in this dataset"
   ]
  },
  {
   "cell_type": "code",
   "execution_count": 31,
   "id": "821247a7-53b2-4c27-b6e7-fab018ed51d1",
   "metadata": {
    "tags": []
   },
   "outputs": [],
   "source": [
    "def rating_dif(game):\n",
    "    dif = game['white_rating'] - game['black_rating']\n",
    "    return dif"
   ]
  },
  {
   "cell_type": "code",
   "execution_count": 32,
   "id": "e00356fd-d154-47dc-a2b5-2e9c3f2387f0",
   "metadata": {
    "tags": []
   },
   "outputs": [],
   "source": [
    "games['rating_dif'] = games.apply(lambda x : rating_dif(x), axis=1) #rating difference could be a good predictor of the game's outcome"
   ]
  },
  {
   "cell_type": "code",
   "execution_count": 33,
   "id": "b65b58da-1a37-4ee5-90f5-f3c421a7e1f5",
   "metadata": {
    "tags": []
   },
   "outputs": [],
   "source": [
    "def winner_binary(game):\n",
    "    \"\"\"creates an integer to be used for linear regressions involving the game result\"\"\"\n",
    "    if game['winner']=='white':\n",
    "        return 1\n",
    "    else:\n",
    "        return 0"
   ]
  },
  {
   "cell_type": "code",
   "execution_count": 34,
   "id": "bc2afd4a-9bf3-4daa-8d3e-5e855f935621",
   "metadata": {
    "tags": []
   },
   "outputs": [],
   "source": [
    "games['winner_bin'] = games.apply(lambda x : winner_binary(x), axis=1)"
   ]
  },
  {
   "cell_type": "code",
   "execution_count": 35,
   "id": "77ff2ef1-3c5c-49bc-b828-caacf5fbc941",
   "metadata": {
    "tags": []
   },
   "outputs": [
    {
     "data": {
      "text/html": [
       "<div>\n",
       "<style scoped>\n",
       "    .dataframe tbody tr th:only-of-type {\n",
       "        vertical-align: middle;\n",
       "    }\n",
       "\n",
       "    .dataframe tbody tr th {\n",
       "        vertical-align: top;\n",
       "    }\n",
       "\n",
       "    .dataframe thead th {\n",
       "        text-align: right;\n",
       "    }\n",
       "</style>\n",
       "<table border=\"1\" class=\"dataframe\">\n",
       "  <thead>\n",
       "    <tr style=\"text-align: right;\">\n",
       "      <th></th>\n",
       "      <th>id</th>\n",
       "      <th>rated</th>\n",
       "      <th>created_at</th>\n",
       "      <th>turns</th>\n",
       "      <th>victory_status</th>\n",
       "      <th>winner</th>\n",
       "      <th>increment_code</th>\n",
       "      <th>white_id</th>\n",
       "      <th>white_rating</th>\n",
       "      <th>black_id</th>\n",
       "      <th>...</th>\n",
       "      <th>opening_ply</th>\n",
       "      <th>opening</th>\n",
       "      <th>opening_10</th>\n",
       "      <th>opening_simple</th>\n",
       "      <th>simpler_opening</th>\n",
       "      <th>opening_moves</th>\n",
       "      <th>time_ctrl</th>\n",
       "      <th>duration</th>\n",
       "      <th>rating_dif</th>\n",
       "      <th>winner_bin</th>\n",
       "    </tr>\n",
       "  </thead>\n",
       "  <tbody>\n",
       "    <tr>\n",
       "      <th>0</th>\n",
       "      <td>TZJHLljE</td>\n",
       "      <td>False</td>\n",
       "      <td>2017-08-31 20:06:40</td>\n",
       "      <td>13</td>\n",
       "      <td>outoftime</td>\n",
       "      <td>white</td>\n",
       "      <td>15+2</td>\n",
       "      <td>bourgris</td>\n",
       "      <td>1500</td>\n",
       "      <td>a-00</td>\n",
       "      <td>...</td>\n",
       "      <td>5</td>\n",
       "      <td>d4 d5 c4 c6 cxd5 e6 dxe6 fxe6 Nf3 Bb4+ Nc3 Ba5</td>\n",
       "      <td>d4 d5 c4 c6 cxd5 e6 dxe6 fxe6 Nf3 Bb4+</td>\n",
       "      <td>Slav Defense</td>\n",
       "      <td>Slav Defense</td>\n",
       "      <td>d4 d5 c4 c6 cxd5</td>\n",
       "      <td>Rapid</td>\n",
       "      <td>0 days</td>\n",
       "      <td>309</td>\n",
       "      <td>1</td>\n",
       "    </tr>\n",
       "  </tbody>\n",
       "</table>\n",
       "<p>1 rows × 24 columns</p>\n",
       "</div>"
      ],
      "text/plain": [
       "         id  rated          created_at  turns victory_status winner  \\\n",
       "0  TZJHLljE  False 2017-08-31 20:06:40     13      outoftime  white   \n",
       "\n",
       "  increment_code  white_id  white_rating black_id  ...  opening_ply  \\\n",
       "0           15+2  bourgris          1500     a-00  ...            5   \n",
       "\n",
       "                                          opening  \\\n",
       "0  d4 d5 c4 c6 cxd5 e6 dxe6 fxe6 Nf3 Bb4+ Nc3 Ba5   \n",
       "\n",
       "                               opening_10 opening_simple  simpler_opening  \\\n",
       "0  d4 d5 c4 c6 cxd5 e6 dxe6 fxe6 Nf3 Bb4+   Slav Defense     Slav Defense   \n",
       "\n",
       "      opening_moves time_ctrl duration rating_dif winner_bin  \n",
       "0  d4 d5 c4 c6 cxd5     Rapid   0 days        309          1  \n",
       "\n",
       "[1 rows x 24 columns]"
      ]
     },
     "execution_count": 35,
     "metadata": {},
     "output_type": "execute_result"
    }
   ],
   "source": [
    "games.head(1)"
   ]
  },
  {
   "cell_type": "code",
   "execution_count": 36,
   "id": "b8f693e0-924c-4efd-9dd3-a7b76c1e35a3",
   "metadata": {
    "tags": []
   },
   "outputs": [
    {
     "name": "stdout",
     "output_type": "stream",
     "text": [
      "<class 'pandas.core.frame.DataFrame'>\n",
      "RangeIndex: 175358 entries, 0 to 175357\n",
      "Data columns (total 7 columns):\n",
      " #   Column        Non-Null Count   Dtype \n",
      "---  ------        --------------   ----- \n",
      " 0   Country Rank  175358 non-null  int64 \n",
      " 1   Name          175358 non-null  object\n",
      " 2   Title         175358 non-null  object\n",
      " 3   Country       175358 non-null  object\n",
      " 4   FIDE          175358 non-null  object\n",
      " 5   Age           175358 non-null  int64 \n",
      " 6    K-factor     175358 non-null  int64 \n",
      "dtypes: int64(3), object(4)\n",
      "memory usage: 9.4+ MB\n"
     ]
    }
   ],
   "source": [
    "players.info()"
   ]
  },
  {
   "cell_type": "code",
   "execution_count": 37,
   "id": "80cc0ebd-badc-4246-b36a-9d1fc692cfd5",
   "metadata": {
    "tags": []
   },
   "outputs": [
    {
     "name": "stdout",
     "output_type": "stream",
     "text": [
      "Index(['Country Rank', 'Name', 'Title', 'Country', 'FIDE', 'Age', ' K-factor'], dtype='object')\n"
     ]
    }
   ],
   "source": [
    "print(players.columns)"
   ]
  },
  {
   "cell_type": "code",
   "execution_count": 38,
   "id": "23a7853d-5178-4c3b-8b28-265352a88072",
   "metadata": {
    "tags": []
   },
   "outputs": [
    {
     "name": "stdout",
     "output_type": "stream",
     "text": [
      "175358\n",
      "        Country Rank            Age       K-factor\n",
      "count  175358.000000  175358.000000  175358.000000\n",
      "mean     3221.141704      36.374463      29.539713\n",
      "std      3779.534044      20.448013      10.328708\n",
      "min         1.000000       6.000000      10.000000\n",
      "25%       483.000000      18.000000      20.000000\n",
      "50%      1653.000000      31.000000      20.000000\n",
      "75%      4599.000000      53.000000      40.000000\n",
      "max     16673.000000     970.000000      40.000000\n"
     ]
    }
   ],
   "source": [
    "print(len(players))\n",
    "print(players.describe())"
   ]
  },
  {
   "cell_type": "code",
   "execution_count": 39,
   "id": "99780093-314e-4c19-a94f-649573cce1e3",
   "metadata": {
    "tags": []
   },
   "outputs": [
    {
     "data": {
      "text/plain": [
       "array(['FM', 'unranked/unrated', 'GM', 'IM', 'WCM', 'WFM', 'WIM', 'WGM',\n",
       "       'CM', 'WH'], dtype=object)"
      ]
     },
     "execution_count": 39,
     "metadata": {},
     "output_type": "execute_result"
    }
   ],
   "source": [
    "players['Title'].unique()"
   ]
  },
  {
   "cell_type": "code",
   "execution_count": 40,
   "id": "fbeef994-7187-4bbb-8760-17a671b0e0e3",
   "metadata": {
    "tags": []
   },
   "outputs": [
    {
     "data": {
      "text/plain": [
       "174070"
      ]
     },
     "execution_count": 40,
     "metadata": {},
     "output_type": "execute_result"
    }
   ],
   "source": [
    "players['Name'].nunique() #more rows than names, about 1300"
   ]
  },
  {
   "cell_type": "code",
   "execution_count": 41,
   "id": "aaf3aa0c-18d2-431a-8ac1-d94af00673e7",
   "metadata": {
    "tags": []
   },
   "outputs": [
    {
     "name": "stdout",
     "output_type": "stream",
     "text": [
      "175358\n",
      "        Country Rank            Age       K-factor\n",
      "count  175358.000000  175358.000000  175358.000000\n",
      "mean     3221.141704      36.374463      29.539713\n",
      "std      3779.534044      20.448013      10.328708\n",
      "min         1.000000       6.000000      10.000000\n",
      "25%       483.000000      18.000000      20.000000\n",
      "50%      1653.000000      31.000000      20.000000\n",
      "75%      4599.000000      53.000000      40.000000\n",
      "max     16673.000000     970.000000      40.000000\n"
     ]
    }
   ],
   "source": [
    "players.drop_duplicates(inplace=True)\n",
    "print(len(players)) #shows no change, no duplicates, just similar names\n",
    "print(players.describe())"
   ]
  },
  {
   "cell_type": "code",
   "execution_count": 42,
   "id": "a124279b-ca50-49be-bfd7-b36683edc6b8",
   "metadata": {
    "tags": []
   },
   "outputs": [
    {
     "name": "stdout",
     "output_type": "stream",
     "text": [
      "<class 'pandas.core.frame.DataFrame'>\n",
      "Index: 190 entries, 0 to 189\n",
      "Data columns (total 14 columns):\n",
      " #   Column        Non-Null Count  Dtype  \n",
      "---  ------        --------------  -----  \n",
      " 0   #             190 non-null    int64  \n",
      " 1   Country       188 non-null    object \n",
      " 2   Flag          0 non-null      float64\n",
      " 3   Num Players   190 non-null    int64  \n",
      " 4   Women         190 non-null    int64  \n",
      " 5   % of Women    190 non-null    float64\n",
      " 6   FIDE Average  190 non-null    int64  \n",
      " 7   GMs           190 non-null    int64  \n",
      " 8   IMs           190 non-null    int64  \n",
      " 9   FMs           190 non-null    int64  \n",
      " 10  WGMs          190 non-null    int64  \n",
      " 11  WIMs          190 non-null    int64  \n",
      " 12  WFMs          190 non-null    int64  \n",
      " 13  Age Avg       190 non-null    int64  \n",
      "dtypes: float64(2), int64(11), object(1)\n",
      "memory usage: 22.3+ KB\n"
     ]
    }
   ],
   "source": [
    "stats.info()"
   ]
  },
  {
   "cell_type": "code",
   "execution_count": 43,
   "id": "6cee4f0f-107a-4163-b241-06295c0fc8dc",
   "metadata": {
    "tags": []
   },
   "outputs": [],
   "source": [
    "# Drop 'Flag':\n",
    "stats = stats.drop('Flag', axis=1)\n",
    "# Drop nulls\n",
    "stats.dropna(inplace=True)"
   ]
  },
  {
   "cell_type": "code",
   "execution_count": 44,
   "id": "93f567ca-b31f-4e1d-9a8d-9733f639ca9f",
   "metadata": {
    "tags": []
   },
   "outputs": [
    {
     "name": "stdout",
     "output_type": "stream",
     "text": [
      "<class 'pandas.core.frame.DataFrame'>\n",
      "Index: 188 entries, 0 to 189\n",
      "Data columns (total 13 columns):\n",
      " #   Column        Non-Null Count  Dtype  \n",
      "---  ------        --------------  -----  \n",
      " 0   #             188 non-null    int64  \n",
      " 1   Country       188 non-null    object \n",
      " 2   Num Players   188 non-null    int64  \n",
      " 3   Women         188 non-null    int64  \n",
      " 4   % of Women    188 non-null    float64\n",
      " 5   FIDE Average  188 non-null    int64  \n",
      " 6   GMs           188 non-null    int64  \n",
      " 7   IMs           188 non-null    int64  \n",
      " 8   FMs           188 non-null    int64  \n",
      " 9   WGMs          188 non-null    int64  \n",
      " 10  WIMs          188 non-null    int64  \n",
      " 11  WFMs          188 non-null    int64  \n",
      " 12  Age Avg       188 non-null    int64  \n",
      "dtypes: float64(1), int64(11), object(1)\n",
      "memory usage: 20.6+ KB\n"
     ]
    }
   ],
   "source": [
    "stats.info()"
   ]
  },
  {
   "cell_type": "code",
   "execution_count": 45,
   "id": "2573388f-703f-4f0a-9fb4-69fb52dbe8a7",
   "metadata": {
    "tags": []
   },
   "outputs": [
    {
     "data": {
      "text/html": [
       "<div>\n",
       "<style scoped>\n",
       "    .dataframe tbody tr th:only-of-type {\n",
       "        vertical-align: middle;\n",
       "    }\n",
       "\n",
       "    .dataframe tbody tr th {\n",
       "        vertical-align: top;\n",
       "    }\n",
       "\n",
       "    .dataframe thead th {\n",
       "        text-align: right;\n",
       "    }\n",
       "</style>\n",
       "<table border=\"1\" class=\"dataframe\">\n",
       "  <thead>\n",
       "    <tr style=\"text-align: right;\">\n",
       "      <th></th>\n",
       "      <th>#</th>\n",
       "      <th>Country</th>\n",
       "      <th>Num Players</th>\n",
       "      <th>Women</th>\n",
       "      <th>% of Women</th>\n",
       "      <th>FIDE Average</th>\n",
       "      <th>GMs</th>\n",
       "      <th>IMs</th>\n",
       "      <th>FMs</th>\n",
       "      <th>WGMs</th>\n",
       "      <th>WIMs</th>\n",
       "      <th>WFMs</th>\n",
       "      <th>Age Avg</th>\n",
       "    </tr>\n",
       "  </thead>\n",
       "  <tbody>\n",
       "  </tbody>\n",
       "</table>\n",
       "</div>"
      ],
      "text/plain": [
       "Empty DataFrame\n",
       "Columns: [#, Country, Num Players, Women, % of Women, FIDE Average, GMs, IMs, FMs, WGMs, WIMs, WFMs, Age Avg]\n",
       "Index: []"
      ]
     },
     "execution_count": 45,
     "metadata": {},
     "output_type": "execute_result"
    }
   ],
   "source": [
    "# No % can be larger than 100%:\n",
    "\n",
    "stats[stats['% of Women'] > 100]"
   ]
  },
  {
   "cell_type": "code",
   "execution_count": 46,
   "id": "ba05f271-7e7e-4b63-9d75-3114d82902cd",
   "metadata": {
    "tags": []
   },
   "outputs": [
    {
     "data": {
      "text/plain": [
       "Index(['#', 'Country', 'Num Players', 'Women', '% of Women', 'FIDE Average',\n",
       "       'GMs', 'IMs', 'FMs', 'WGMs', 'WIMs', 'WFMs', 'Age Avg'],\n",
       "      dtype='object')"
      ]
     },
     "execution_count": 46,
     "metadata": {},
     "output_type": "execute_result"
    }
   ],
   "source": [
    "stats.columns"
   ]
  },
  {
   "cell_type": "code",
   "execution_count": 47,
   "id": "7b52d440-8a35-44a2-a96a-1cde046e2032",
   "metadata": {},
   "outputs": [],
   "source": [
    "del stats['#'] #a duplicate index column in the original data"
   ]
  },
  {
   "cell_type": "code",
   "execution_count": 48,
   "id": "a9d93628-eebc-4819-8047-f86ef5dcf1ef",
   "metadata": {
    "tags": []
   },
   "outputs": [
    {
     "data": {
      "text/plain": [
       "Index(['Country Rank', 'Name', 'Title', 'Country', 'FIDE', 'Age', ' K-factor'], dtype='object')"
      ]
     },
     "execution_count": 48,
     "metadata": {},
     "output_type": "execute_result"
    }
   ],
   "source": [
    "players.columns"
   ]
  },
  {
   "cell_type": "code",
   "execution_count": 49,
   "id": "2b755f58-3268-4ee0-bf18-d82dfd42274b",
   "metadata": {
    "tags": []
   },
   "outputs": [
    {
     "data": {
      "text/plain": [
       "Index(['id', 'rated', 'created_at', 'turns', 'victory_status', 'winner',\n",
       "       'increment_code', 'white_id', 'white_rating', 'black_id',\n",
       "       'black_rating', 'moves', 'opening_eco', 'opening_name', 'opening_ply',\n",
       "       'opening', 'opening_10', 'opening_simple', 'simpler_opening',\n",
       "       'opening_moves', 'time_ctrl', 'duration', 'rating_dif', 'winner_bin'],\n",
       "      dtype='object')"
      ]
     },
     "execution_count": 49,
     "metadata": {},
     "output_type": "execute_result"
    }
   ],
   "source": [
    "games.columns"
   ]
  },
  {
   "cell_type": "code",
   "execution_count": 50,
   "id": "c23e8037-e01d-4768-a688-d5d86d360770",
   "metadata": {
    "tags": []
   },
   "outputs": [],
   "source": [
    "games = games[['id','rated','created_at','duration','turns','victory_status','winner','winner_bin','time_ctrl','increment_code','white_id','white_rating','black_id','black_rating','rating_dif','moves','opening_eco','opening_name','opening_simple','opening_moves','opening_10','opening_ply','simpler_opening']]\n",
    "#reordering column names"
   ]
  },
  {
   "cell_type": "code",
   "execution_count": 51,
   "id": "7e98d240-ca08-439c-9d9d-2a96ad53060e",
   "metadata": {
    "tags": []
   },
   "outputs": [
    {
     "name": "stdout",
     "output_type": "stream",
     "text": [
      "Index(['id', 'rated', 'created_at', 'duration', 'turns', 'victory_status',\n",
      "       'winner', 'winner_bin', 'time_ctrl', 'increment_code', 'white_id',\n",
      "       'white_rating', 'black_id', 'black_rating', 'rating_dif', 'moves',\n",
      "       'opening_eco', 'opening_name', 'opening_simple', 'opening_moves',\n",
      "       'opening_10', 'opening_ply', 'simpler_opening'],\n",
      "      dtype='object')\n"
     ]
    },
    {
     "data": {
      "text/html": [
       "<div>\n",
       "<style scoped>\n",
       "    .dataframe tbody tr th:only-of-type {\n",
       "        vertical-align: middle;\n",
       "    }\n",
       "\n",
       "    .dataframe tbody tr th {\n",
       "        vertical-align: top;\n",
       "    }\n",
       "\n",
       "    .dataframe thead th {\n",
       "        text-align: right;\n",
       "    }\n",
       "</style>\n",
       "<table border=\"1\" class=\"dataframe\">\n",
       "  <thead>\n",
       "    <tr style=\"text-align: right;\">\n",
       "      <th></th>\n",
       "      <th>id</th>\n",
       "      <th>rated</th>\n",
       "      <th>created_at</th>\n",
       "      <th>duration</th>\n",
       "      <th>turns</th>\n",
       "      <th>victory_status</th>\n",
       "      <th>winner</th>\n",
       "      <th>winner_bin</th>\n",
       "      <th>time_ctrl</th>\n",
       "      <th>increment_code</th>\n",
       "      <th>...</th>\n",
       "      <th>black_rating</th>\n",
       "      <th>rating_dif</th>\n",
       "      <th>moves</th>\n",
       "      <th>opening_eco</th>\n",
       "      <th>opening_name</th>\n",
       "      <th>opening_simple</th>\n",
       "      <th>opening_moves</th>\n",
       "      <th>opening_10</th>\n",
       "      <th>opening_ply</th>\n",
       "      <th>simpler_opening</th>\n",
       "    </tr>\n",
       "  </thead>\n",
       "  <tbody>\n",
       "    <tr>\n",
       "      <th>0</th>\n",
       "      <td>TZJHLljE</td>\n",
       "      <td>False</td>\n",
       "      <td>2017-08-31 20:06:40</td>\n",
       "      <td>0 days</td>\n",
       "      <td>13</td>\n",
       "      <td>outoftime</td>\n",
       "      <td>white</td>\n",
       "      <td>1</td>\n",
       "      <td>Rapid</td>\n",
       "      <td>15+2</td>\n",
       "      <td>...</td>\n",
       "      <td>1191</td>\n",
       "      <td>309</td>\n",
       "      <td>d4 d5 c4 c6 cxd5 e6 dxe6 fxe6 Nf3 Bb4+ Nc3 Ba5...</td>\n",
       "      <td>D10</td>\n",
       "      <td>Slav Defense: Exchange Variation</td>\n",
       "      <td>Slav Defense</td>\n",
       "      <td>d4 d5 c4 c6 cxd5</td>\n",
       "      <td>d4 d5 c4 c6 cxd5 e6 dxe6 fxe6 Nf3 Bb4+</td>\n",
       "      <td>5</td>\n",
       "      <td>Slav Defense</td>\n",
       "    </tr>\n",
       "    <tr>\n",
       "      <th>1</th>\n",
       "      <td>l1NXvwaE</td>\n",
       "      <td>True</td>\n",
       "      <td>2017-08-30 21:53:20</td>\n",
       "      <td>0 days</td>\n",
       "      <td>16</td>\n",
       "      <td>resign</td>\n",
       "      <td>black</td>\n",
       "      <td>0</td>\n",
       "      <td>Blitz</td>\n",
       "      <td>5+10</td>\n",
       "      <td>...</td>\n",
       "      <td>1261</td>\n",
       "      <td>61</td>\n",
       "      <td>d4 Nc6 e4 e5 f4 f6 dxe5 fxe5 fxe5 Nxe5 Qd4 Nc6...</td>\n",
       "      <td>B00</td>\n",
       "      <td>Nimzowitsch Defense: Kennedy Variation</td>\n",
       "      <td>Nimzowitsch Defense</td>\n",
       "      <td>d4 Nc6 e4 e5</td>\n",
       "      <td>d4 Nc6 e4 e5 f4 f6 dxe5 fxe5 fxe5 Nxe5</td>\n",
       "      <td>4</td>\n",
       "      <td>Nimzowitsch Defense</td>\n",
       "    </tr>\n",
       "    <tr>\n",
       "      <th>2</th>\n",
       "      <td>mIICvQHh</td>\n",
       "      <td>True</td>\n",
       "      <td>2017-08-30 21:53:20</td>\n",
       "      <td>0 days</td>\n",
       "      <td>61</td>\n",
       "      <td>mate</td>\n",
       "      <td>white</td>\n",
       "      <td>1</td>\n",
       "      <td>Blitz</td>\n",
       "      <td>5+10</td>\n",
       "      <td>...</td>\n",
       "      <td>1500</td>\n",
       "      <td>-4</td>\n",
       "      <td>e4 e5 d3 d6 Be3 c6 Be2 b5 Nd2 a5 a4 c5 axb5 Nc...</td>\n",
       "      <td>C20</td>\n",
       "      <td>King's Pawn Game: Leonardis Variation</td>\n",
       "      <td>King's Pawn Game</td>\n",
       "      <td>e4 e5 d3</td>\n",
       "      <td>e4 e5 d3 d6 Be3 c6 Be2 b5 Nd2 a5</td>\n",
       "      <td>3</td>\n",
       "      <td>King's Pawn Game</td>\n",
       "    </tr>\n",
       "    <tr>\n",
       "      <th>3</th>\n",
       "      <td>kWKvrqYL</td>\n",
       "      <td>True</td>\n",
       "      <td>2017-08-30 16:20:00</td>\n",
       "      <td>0 days</td>\n",
       "      <td>61</td>\n",
       "      <td>mate</td>\n",
       "      <td>white</td>\n",
       "      <td>1</td>\n",
       "      <td>Rapid</td>\n",
       "      <td>20+0</td>\n",
       "      <td>...</td>\n",
       "      <td>1454</td>\n",
       "      <td>-15</td>\n",
       "      <td>d4 d5 Nf3 Bf5 Nc3 Nf6 Bf4 Ng4 e3 Nc6 Be2 Qd7 O...</td>\n",
       "      <td>D02</td>\n",
       "      <td>Queen's Pawn Game: Zukertort Variation</td>\n",
       "      <td>Queen's Pawn Game</td>\n",
       "      <td>d4 d5 Nf3</td>\n",
       "      <td>d4 d5 Nf3 Bf5 Nc3 Nf6 Bf4 Ng4 e3 Nc6</td>\n",
       "      <td>3</td>\n",
       "      <td>Queen's Pawn Game</td>\n",
       "    </tr>\n",
       "    <tr>\n",
       "      <th>4</th>\n",
       "      <td>9tXo1AUZ</td>\n",
       "      <td>True</td>\n",
       "      <td>2017-08-29 18:06:40</td>\n",
       "      <td>0 days</td>\n",
       "      <td>95</td>\n",
       "      <td>mate</td>\n",
       "      <td>white</td>\n",
       "      <td>1</td>\n",
       "      <td>Rapid</td>\n",
       "      <td>30+3</td>\n",
       "      <td>...</td>\n",
       "      <td>1469</td>\n",
       "      <td>54</td>\n",
       "      <td>e4 e5 Nf3 d6 d4 Nc6 d5 Nb4 a3 Na6 Nc3 Be7 b4 N...</td>\n",
       "      <td>C41</td>\n",
       "      <td>Philidor Defense</td>\n",
       "      <td>Philidor Defense</td>\n",
       "      <td>e4 e5 Nf3 d6 d4</td>\n",
       "      <td>e4 e5 Nf3 d6 d4 Nc6 d5 Nb4 a3 Na6</td>\n",
       "      <td>5</td>\n",
       "      <td>Philidor Defense</td>\n",
       "    </tr>\n",
       "  </tbody>\n",
       "</table>\n",
       "<p>5 rows × 23 columns</p>\n",
       "</div>"
      ],
      "text/plain": [
       "         id  rated          created_at duration  turns victory_status winner  \\\n",
       "0  TZJHLljE  False 2017-08-31 20:06:40   0 days     13      outoftime  white   \n",
       "1  l1NXvwaE   True 2017-08-30 21:53:20   0 days     16         resign  black   \n",
       "2  mIICvQHh   True 2017-08-30 21:53:20   0 days     61           mate  white   \n",
       "3  kWKvrqYL   True 2017-08-30 16:20:00   0 days     61           mate  white   \n",
       "4  9tXo1AUZ   True 2017-08-29 18:06:40   0 days     95           mate  white   \n",
       "\n",
       "   winner_bin time_ctrl increment_code  ... black_rating  rating_dif  \\\n",
       "0           1     Rapid           15+2  ...         1191         309   \n",
       "1           0     Blitz           5+10  ...         1261          61   \n",
       "2           1     Blitz           5+10  ...         1500          -4   \n",
       "3           1     Rapid           20+0  ...         1454         -15   \n",
       "4           1     Rapid           30+3  ...         1469          54   \n",
       "\n",
       "                                               moves  opening_eco  \\\n",
       "0  d4 d5 c4 c6 cxd5 e6 dxe6 fxe6 Nf3 Bb4+ Nc3 Ba5...          D10   \n",
       "1  d4 Nc6 e4 e5 f4 f6 dxe5 fxe5 fxe5 Nxe5 Qd4 Nc6...          B00   \n",
       "2  e4 e5 d3 d6 Be3 c6 Be2 b5 Nd2 a5 a4 c5 axb5 Nc...          C20   \n",
       "3  d4 d5 Nf3 Bf5 Nc3 Nf6 Bf4 Ng4 e3 Nc6 Be2 Qd7 O...          D02   \n",
       "4  e4 e5 Nf3 d6 d4 Nc6 d5 Nb4 a3 Na6 Nc3 Be7 b4 N...          C41   \n",
       "\n",
       "                             opening_name       opening_simple  \\\n",
       "0        Slav Defense: Exchange Variation         Slav Defense   \n",
       "1  Nimzowitsch Defense: Kennedy Variation  Nimzowitsch Defense   \n",
       "2   King's Pawn Game: Leonardis Variation     King's Pawn Game   \n",
       "3  Queen's Pawn Game: Zukertort Variation    Queen's Pawn Game   \n",
       "4                        Philidor Defense     Philidor Defense   \n",
       "\n",
       "      opening_moves                              opening_10 opening_ply  \\\n",
       "0  d4 d5 c4 c6 cxd5  d4 d5 c4 c6 cxd5 e6 dxe6 fxe6 Nf3 Bb4+           5   \n",
       "1      d4 Nc6 e4 e5  d4 Nc6 e4 e5 f4 f6 dxe5 fxe5 fxe5 Nxe5           4   \n",
       "2          e4 e5 d3        e4 e5 d3 d6 Be3 c6 Be2 b5 Nd2 a5           3   \n",
       "3         d4 d5 Nf3    d4 d5 Nf3 Bf5 Nc3 Nf6 Bf4 Ng4 e3 Nc6           3   \n",
       "4   e4 e5 Nf3 d6 d4       e4 e5 Nf3 d6 d4 Nc6 d5 Nb4 a3 Na6           5   \n",
       "\n",
       "       simpler_opening  \n",
       "0         Slav Defense  \n",
       "1  Nimzowitsch Defense  \n",
       "2     King's Pawn Game  \n",
       "3    Queen's Pawn Game  \n",
       "4     Philidor Defense  \n",
       "\n",
       "[5 rows x 23 columns]"
      ]
     },
     "execution_count": 51,
     "metadata": {},
     "output_type": "execute_result"
    }
   ],
   "source": [
    "print(games.columns)\n",
    "games.head()"
   ]
  },
  {
   "cell_type": "code",
   "execution_count": 52,
   "id": "baaf3143-9798-4d83-ba33-f18ed5b36ff3",
   "metadata": {
    "tags": []
   },
   "outputs": [],
   "source": [
    "stats.reset_index(inplace=True)\n",
    "players.reset_index(inplace=True)\n",
    "games.reset_index(inplace=True)\n",
    "#safety first... or eventually anyway"
   ]
  },
  {
   "cell_type": "code",
   "execution_count": 53,
   "id": "b4efb03b-4057-4715-a770-df4236a74495",
   "metadata": {
    "tags": []
   },
   "outputs": [],
   "source": [
    "stats.to_csv('../datasets/stats_clean.csv',index=False)\n",
    "players.to_csv('../datasets/players_clean.csv',index=False)\n",
    "games.to_csv('../datasets/games_clean.csv',index=False)"
   ]
  },
  {
   "cell_type": "code",
   "execution_count": 54,
   "id": "82b2647d-c9c4-4577-aba1-3de74de7d841",
   "metadata": {},
   "outputs": [
    {
     "data": {
      "text/plain": [
       "10338"
      ]
     },
     "execution_count": 54,
     "metadata": {},
     "output_type": "execute_result"
    }
   ],
   "source": [
    "games['duration'].nunique()"
   ]
  },
  {
   "cell_type": "code",
   "execution_count": 55,
   "id": "50403453-44c4-477e-befa-e078818c9cef",
   "metadata": {
    "tags": []
   },
   "outputs": [
    {
     "data": {
      "text/html": [
       "<div>\n",
       "<style scoped>\n",
       "    .dataframe tbody tr th:only-of-type {\n",
       "        vertical-align: middle;\n",
       "    }\n",
       "\n",
       "    .dataframe tbody tr th {\n",
       "        vertical-align: top;\n",
       "    }\n",
       "\n",
       "    .dataframe thead th {\n",
       "        text-align: right;\n",
       "    }\n",
       "</style>\n",
       "<table border=\"1\" class=\"dataframe\">\n",
       "  <thead>\n",
       "    <tr style=\"text-align: right;\">\n",
       "      <th></th>\n",
       "      <th>index</th>\n",
       "      <th>id</th>\n",
       "      <th>rated</th>\n",
       "      <th>created_at</th>\n",
       "      <th>duration</th>\n",
       "      <th>turns</th>\n",
       "      <th>victory_status</th>\n",
       "      <th>winner</th>\n",
       "      <th>winner_bin</th>\n",
       "      <th>time_ctrl</th>\n",
       "      <th>...</th>\n",
       "      <th>black_rating</th>\n",
       "      <th>rating_dif</th>\n",
       "      <th>moves</th>\n",
       "      <th>opening_eco</th>\n",
       "      <th>opening_name</th>\n",
       "      <th>opening_simple</th>\n",
       "      <th>opening_moves</th>\n",
       "      <th>opening_10</th>\n",
       "      <th>opening_ply</th>\n",
       "      <th>simpler_opening</th>\n",
       "    </tr>\n",
       "  </thead>\n",
       "  <tbody>\n",
       "    <tr>\n",
       "      <th>0</th>\n",
       "      <td>0</td>\n",
       "      <td>TZJHLljE</td>\n",
       "      <td>False</td>\n",
       "      <td>2017-08-31 20:06:40</td>\n",
       "      <td>0 days</td>\n",
       "      <td>13</td>\n",
       "      <td>outoftime</td>\n",
       "      <td>white</td>\n",
       "      <td>1</td>\n",
       "      <td>Rapid</td>\n",
       "      <td>...</td>\n",
       "      <td>1191</td>\n",
       "      <td>309</td>\n",
       "      <td>d4 d5 c4 c6 cxd5 e6 dxe6 fxe6 Nf3 Bb4+ Nc3 Ba5...</td>\n",
       "      <td>D10</td>\n",
       "      <td>Slav Defense: Exchange Variation</td>\n",
       "      <td>Slav Defense</td>\n",
       "      <td>d4 d5 c4 c6 cxd5</td>\n",
       "      <td>d4 d5 c4 c6 cxd5 e6 dxe6 fxe6 Nf3 Bb4+</td>\n",
       "      <td>5</td>\n",
       "      <td>Slav Defense</td>\n",
       "    </tr>\n",
       "    <tr>\n",
       "      <th>1</th>\n",
       "      <td>1</td>\n",
       "      <td>l1NXvwaE</td>\n",
       "      <td>True</td>\n",
       "      <td>2017-08-30 21:53:20</td>\n",
       "      <td>0 days</td>\n",
       "      <td>16</td>\n",
       "      <td>resign</td>\n",
       "      <td>black</td>\n",
       "      <td>0</td>\n",
       "      <td>Blitz</td>\n",
       "      <td>...</td>\n",
       "      <td>1261</td>\n",
       "      <td>61</td>\n",
       "      <td>d4 Nc6 e4 e5 f4 f6 dxe5 fxe5 fxe5 Nxe5 Qd4 Nc6...</td>\n",
       "      <td>B00</td>\n",
       "      <td>Nimzowitsch Defense: Kennedy Variation</td>\n",
       "      <td>Nimzowitsch Defense</td>\n",
       "      <td>d4 Nc6 e4 e5</td>\n",
       "      <td>d4 Nc6 e4 e5 f4 f6 dxe5 fxe5 fxe5 Nxe5</td>\n",
       "      <td>4</td>\n",
       "      <td>Nimzowitsch Defense</td>\n",
       "    </tr>\n",
       "    <tr>\n",
       "      <th>2</th>\n",
       "      <td>2</td>\n",
       "      <td>mIICvQHh</td>\n",
       "      <td>True</td>\n",
       "      <td>2017-08-30 21:53:20</td>\n",
       "      <td>0 days</td>\n",
       "      <td>61</td>\n",
       "      <td>mate</td>\n",
       "      <td>white</td>\n",
       "      <td>1</td>\n",
       "      <td>Blitz</td>\n",
       "      <td>...</td>\n",
       "      <td>1500</td>\n",
       "      <td>-4</td>\n",
       "      <td>e4 e5 d3 d6 Be3 c6 Be2 b5 Nd2 a5 a4 c5 axb5 Nc...</td>\n",
       "      <td>C20</td>\n",
       "      <td>King's Pawn Game: Leonardis Variation</td>\n",
       "      <td>King's Pawn Game</td>\n",
       "      <td>e4 e5 d3</td>\n",
       "      <td>e4 e5 d3 d6 Be3 c6 Be2 b5 Nd2 a5</td>\n",
       "      <td>3</td>\n",
       "      <td>King's Pawn Game</td>\n",
       "    </tr>\n",
       "    <tr>\n",
       "      <th>3</th>\n",
       "      <td>3</td>\n",
       "      <td>kWKvrqYL</td>\n",
       "      <td>True</td>\n",
       "      <td>2017-08-30 16:20:00</td>\n",
       "      <td>0 days</td>\n",
       "      <td>61</td>\n",
       "      <td>mate</td>\n",
       "      <td>white</td>\n",
       "      <td>1</td>\n",
       "      <td>Rapid</td>\n",
       "      <td>...</td>\n",
       "      <td>1454</td>\n",
       "      <td>-15</td>\n",
       "      <td>d4 d5 Nf3 Bf5 Nc3 Nf6 Bf4 Ng4 e3 Nc6 Be2 Qd7 O...</td>\n",
       "      <td>D02</td>\n",
       "      <td>Queen's Pawn Game: Zukertort Variation</td>\n",
       "      <td>Queen's Pawn Game</td>\n",
       "      <td>d4 d5 Nf3</td>\n",
       "      <td>d4 d5 Nf3 Bf5 Nc3 Nf6 Bf4 Ng4 e3 Nc6</td>\n",
       "      <td>3</td>\n",
       "      <td>Queen's Pawn Game</td>\n",
       "    </tr>\n",
       "    <tr>\n",
       "      <th>4</th>\n",
       "      <td>4</td>\n",
       "      <td>9tXo1AUZ</td>\n",
       "      <td>True</td>\n",
       "      <td>2017-08-29 18:06:40</td>\n",
       "      <td>0 days</td>\n",
       "      <td>95</td>\n",
       "      <td>mate</td>\n",
       "      <td>white</td>\n",
       "      <td>1</td>\n",
       "      <td>Rapid</td>\n",
       "      <td>...</td>\n",
       "      <td>1469</td>\n",
       "      <td>54</td>\n",
       "      <td>e4 e5 Nf3 d6 d4 Nc6 d5 Nb4 a3 Na6 Nc3 Be7 b4 N...</td>\n",
       "      <td>C41</td>\n",
       "      <td>Philidor Defense</td>\n",
       "      <td>Philidor Defense</td>\n",
       "      <td>e4 e5 Nf3 d6 d4</td>\n",
       "      <td>e4 e5 Nf3 d6 d4 Nc6 d5 Nb4 a3 Na6</td>\n",
       "      <td>5</td>\n",
       "      <td>Philidor Defense</td>\n",
       "    </tr>\n",
       "  </tbody>\n",
       "</table>\n",
       "<p>5 rows × 24 columns</p>\n",
       "</div>"
      ],
      "text/plain": [
       "   index        id  rated          created_at duration  turns victory_status  \\\n",
       "0      0  TZJHLljE  False 2017-08-31 20:06:40   0 days     13      outoftime   \n",
       "1      1  l1NXvwaE   True 2017-08-30 21:53:20   0 days     16         resign   \n",
       "2      2  mIICvQHh   True 2017-08-30 21:53:20   0 days     61           mate   \n",
       "3      3  kWKvrqYL   True 2017-08-30 16:20:00   0 days     61           mate   \n",
       "4      4  9tXo1AUZ   True 2017-08-29 18:06:40   0 days     95           mate   \n",
       "\n",
       "  winner  winner_bin time_ctrl  ... black_rating rating_dif  \\\n",
       "0  white           1     Rapid  ...         1191        309   \n",
       "1  black           0     Blitz  ...         1261         61   \n",
       "2  white           1     Blitz  ...         1500         -4   \n",
       "3  white           1     Rapid  ...         1454        -15   \n",
       "4  white           1     Rapid  ...         1469         54   \n",
       "\n",
       "                                               moves opening_eco  \\\n",
       "0  d4 d5 c4 c6 cxd5 e6 dxe6 fxe6 Nf3 Bb4+ Nc3 Ba5...         D10   \n",
       "1  d4 Nc6 e4 e5 f4 f6 dxe5 fxe5 fxe5 Nxe5 Qd4 Nc6...         B00   \n",
       "2  e4 e5 d3 d6 Be3 c6 Be2 b5 Nd2 a5 a4 c5 axb5 Nc...         C20   \n",
       "3  d4 d5 Nf3 Bf5 Nc3 Nf6 Bf4 Ng4 e3 Nc6 Be2 Qd7 O...         D02   \n",
       "4  e4 e5 Nf3 d6 d4 Nc6 d5 Nb4 a3 Na6 Nc3 Be7 b4 N...         C41   \n",
       "\n",
       "                             opening_name       opening_simple  \\\n",
       "0        Slav Defense: Exchange Variation         Slav Defense   \n",
       "1  Nimzowitsch Defense: Kennedy Variation  Nimzowitsch Defense   \n",
       "2   King's Pawn Game: Leonardis Variation     King's Pawn Game   \n",
       "3  Queen's Pawn Game: Zukertort Variation    Queen's Pawn Game   \n",
       "4                        Philidor Defense     Philidor Defense   \n",
       "\n",
       "      opening_moves                              opening_10 opening_ply  \\\n",
       "0  d4 d5 c4 c6 cxd5  d4 d5 c4 c6 cxd5 e6 dxe6 fxe6 Nf3 Bb4+           5   \n",
       "1      d4 Nc6 e4 e5  d4 Nc6 e4 e5 f4 f6 dxe5 fxe5 fxe5 Nxe5           4   \n",
       "2          e4 e5 d3        e4 e5 d3 d6 Be3 c6 Be2 b5 Nd2 a5           3   \n",
       "3         d4 d5 Nf3    d4 d5 Nf3 Bf5 Nc3 Nf6 Bf4 Ng4 e3 Nc6           3   \n",
       "4   e4 e5 Nf3 d6 d4       e4 e5 Nf3 d6 d4 Nc6 d5 Nb4 a3 Na6           5   \n",
       "\n",
       "       simpler_opening  \n",
       "0         Slav Defense  \n",
       "1  Nimzowitsch Defense  \n",
       "2     King's Pawn Game  \n",
       "3    Queen's Pawn Game  \n",
       "4     Philidor Defense  \n",
       "\n",
       "[5 rows x 24 columns]"
      ]
     },
     "execution_count": 55,
     "metadata": {},
     "output_type": "execute_result"
    }
   ],
   "source": [
    "games.head()"
   ]
  },
  {
   "cell_type": "code",
   "execution_count": 56,
   "id": "3ba27277-122f-4fc4-9728-e4db2a132156",
   "metadata": {
    "tags": []
   },
   "outputs": [
    {
     "name": "stdout",
     "output_type": "stream",
     "text": [
      "2805\n"
     ]
    }
   ],
   "source": [
    "print(games['opening_moves'].nunique())"
   ]
  },
  {
   "cell_type": "code",
   "execution_count": 57,
   "id": "2c0b7f60-6b2f-4839-bf37-e44a6151c500",
   "metadata": {},
   "outputs": [
    {
     "data": {
      "text/plain": [
       "186"
      ]
     },
     "execution_count": 57,
     "metadata": {},
     "output_type": "execute_result"
    }
   ],
   "source": [
    "stats['Country'].nunique()"
   ]
  },
  {
   "cell_type": "code",
   "execution_count": 58,
   "id": "0dbb0fc3-237d-4f58-b800-fd8183ff0be4",
   "metadata": {
    "tags": []
   },
   "outputs": [
    {
     "data": {
      "text/html": [
       "<div>\n",
       "<style scoped>\n",
       "    .dataframe tbody tr th:only-of-type {\n",
       "        vertical-align: middle;\n",
       "    }\n",
       "\n",
       "    .dataframe tbody tr th {\n",
       "        vertical-align: top;\n",
       "    }\n",
       "\n",
       "    .dataframe thead th {\n",
       "        text-align: right;\n",
       "    }\n",
       "</style>\n",
       "<table border=\"1\" class=\"dataframe\">\n",
       "  <thead>\n",
       "    <tr style=\"text-align: right;\">\n",
       "      <th></th>\n",
       "      <th>index</th>\n",
       "      <th>Country</th>\n",
       "      <th>Num Players</th>\n",
       "      <th>Women</th>\n",
       "      <th>% of Women</th>\n",
       "      <th>FIDE Average</th>\n",
       "      <th>GMs</th>\n",
       "      <th>IMs</th>\n",
       "      <th>FMs</th>\n",
       "      <th>WGMs</th>\n",
       "      <th>WIMs</th>\n",
       "      <th>WFMs</th>\n",
       "      <th>Age Avg</th>\n",
       "    </tr>\n",
       "  </thead>\n",
       "  <tbody>\n",
       "    <tr>\n",
       "      <th>17</th>\n",
       "      <td>17</td>\n",
       "      <td>Netherlands</td>\n",
       "      <td>4347</td>\n",
       "      <td>253</td>\n",
       "      <td>5.82</td>\n",
       "      <td>1886</td>\n",
       "      <td>36</td>\n",
       "      <td>100</td>\n",
       "      <td>181</td>\n",
       "      <td>4</td>\n",
       "      <td>14</td>\n",
       "      <td>10</td>\n",
       "      <td>49</td>\n",
       "    </tr>\n",
       "    <tr>\n",
       "      <th>142</th>\n",
       "      <td>143</td>\n",
       "      <td>Netherlands Antilles</td>\n",
       "      <td>45</td>\n",
       "      <td>8</td>\n",
       "      <td>17.78</td>\n",
       "      <td>1747</td>\n",
       "      <td>0</td>\n",
       "      <td>0</td>\n",
       "      <td>5</td>\n",
       "      <td>0</td>\n",
       "      <td>0</td>\n",
       "      <td>1</td>\n",
       "      <td>41</td>\n",
       "    </tr>\n",
       "    <tr>\n",
       "      <th>182</th>\n",
       "      <td>184</td>\n",
       "      <td>Netherlands Antilles</td>\n",
       "      <td>6</td>\n",
       "      <td>0</td>\n",
       "      <td>0.00</td>\n",
       "      <td>1191</td>\n",
       "      <td>0</td>\n",
       "      <td>0</td>\n",
       "      <td>0</td>\n",
       "      <td>0</td>\n",
       "      <td>0</td>\n",
       "      <td>0</td>\n",
       "      <td>28</td>\n",
       "    </tr>\n",
       "  </tbody>\n",
       "</table>\n",
       "</div>"
      ],
      "text/plain": [
       "     index               Country  Num Players  Women  % of Women  \\\n",
       "17      17           Netherlands         4347    253        5.82   \n",
       "142    143  Netherlands Antilles           45      8       17.78   \n",
       "182    184  Netherlands Antilles            6      0        0.00   \n",
       "\n",
       "     FIDE Average  GMs  IMs  FMs  WGMs  WIMs  WFMs  Age Avg  \n",
       "17           1886   36  100  181     4    14    10       49  \n",
       "142          1747    0    0    5     0     0     1       41  \n",
       "182          1191    0    0    0     0     0     0       28  "
      ]
     },
     "execution_count": 58,
     "metadata": {},
     "output_type": "execute_result"
    }
   ],
   "source": [
    "stats.loc[stats['Country'].str.startswith('Netherland')] #duplicate country names will be processed in Tableau, but this SHOULD be cleaned in future"
   ]
  },
  {
   "cell_type": "code",
   "execution_count": null,
   "id": "f17cf0c6-8c1f-4fc1-b36a-5ab91ea1e13f",
   "metadata": {},
   "outputs": [],
   "source": []
  }
 ],
 "metadata": {
  "kernelspec": {
   "display_name": "Python 3 (ipykernel)",
   "language": "python",
   "name": "python3"
  },
  "language_info": {
   "codemirror_mode": {
    "name": "ipython",
    "version": 3
   },
   "file_extension": ".py",
   "mimetype": "text/x-python",
   "name": "python",
   "nbconvert_exporter": "python",
   "pygments_lexer": "ipython3",
   "version": "3.11.5"
  }
 },
 "nbformat": 4,
 "nbformat_minor": 5
}
